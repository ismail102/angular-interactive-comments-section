{
 "cells": [
  {
   "cell_type": "code",
   "execution_count": 12,
   "metadata": {},
   "outputs": [],
   "source": [
    "import torch\n",
    "from transformers import AutoTokenizer, AutoModel\n",
    "import torch.nn as nn\n",
    "import pandas as pd\n",
    "import warnings\n",
    "warnings.filterwarnings('ignore')\n",
    "parent_path = 'C:\\\\Users\\\\SIU856533724\\\\OneDrive - Southern Illinois University\\Research\\\\Paper\\\\Social Networks\\\\Trend Prediction\\\\Comment-Section-UI\\\\UI\\\\angular-interactive-comments-section\\\\flask\\\\data'"
   ]
  },
  {
   "cell_type": "code",
   "execution_count": 13,
   "metadata": {},
   "outputs": [],
   "source": [
    "import os\n",
    "file = os.path.join(parent_path, 'fox-unknown.csv')\n",
    "df = pd.read_csv(file)"
   ]
  },
  {
   "cell_type": "code",
   "execution_count": 14,
   "metadata": {},
   "outputs": [
    {
     "data": {
      "text/html": [
       "<div>\n",
       "<style scoped>\n",
       "    .dataframe tbody tr th:only-of-type {\n",
       "        vertical-align: middle;\n",
       "    }\n",
       "\n",
       "    .dataframe tbody tr th {\n",
       "        vertical-align: top;\n",
       "    }\n",
       "\n",
       "    .dataframe thead th {\n",
       "        text-align: right;\n",
       "    }\n",
       "</style>\n",
       "<table border=\"1\" class=\"dataframe\">\n",
       "  <thead>\n",
       "    <tr style=\"text-align: right;\">\n",
       "      <th></th>\n",
       "      <th>Unnamed: 0</th>\n",
       "      <th>comment</th>\n",
       "      <th>time</th>\n",
       "      <th>username</th>\n",
       "      <th>id</th>\n",
       "      <th>timestamp</th>\n",
       "      <th>time_diff</th>\n",
       "    </tr>\n",
       "  </thead>\n",
       "  <tbody>\n",
       "    <tr>\n",
       "      <th>0</th>\n",
       "      <td>31</td>\n",
       "      <td>Glad to hear the UK has some common sense</td>\n",
       "      <td>19 Dec, 2023 08:09 PM</td>\n",
       "      <td>justjoshin’</td>\n",
       "      <td>32</td>\n",
       "      <td>2023-12-19 20:09:00</td>\n",
       "      <td>0 days 00:00:00</td>\n",
       "    </tr>\n",
       "    <tr>\n",
       "      <th>1</th>\n",
       "      <td>109</td>\n",
       "      <td>Thank God Fox keeps us up to date on culture w...</td>\n",
       "      <td>19 Dec, 2023 08:11 PM</td>\n",
       "      <td>usmckurt1</td>\n",
       "      <td>110</td>\n",
       "      <td>2023-12-19 20:11:00</td>\n",
       "      <td>0 days 00:02:00</td>\n",
       "    </tr>\n",
       "    <tr>\n",
       "      <th>2</th>\n",
       "      <td>89</td>\n",
       "      <td>Why would anyone want to be a teacher? It's ki...</td>\n",
       "      <td>19 Dec, 2023 08:13 PM</td>\n",
       "      <td>Gaza.Glass.workx.LLC</td>\n",
       "      <td>90</td>\n",
       "      <td>2023-12-19 20:13:00</td>\n",
       "      <td>0 days 00:04:00</td>\n",
       "    </tr>\n",
       "    <tr>\n",
       "      <th>3</th>\n",
       "      <td>18</td>\n",
       "      <td>If a student has a gender request it means the...</td>\n",
       "      <td>19 Dec, 2023 08:13 PM</td>\n",
       "      <td>betty_davis_eyes</td>\n",
       "      <td>19</td>\n",
       "      <td>2023-12-19 20:13:00</td>\n",
       "      <td>0 days 00:04:00</td>\n",
       "    </tr>\n",
       "    <tr>\n",
       "      <th>4</th>\n",
       "      <td>15</td>\n",
       "      <td>Nobody, regardless of position relative to the...</td>\n",
       "      <td>19 Dec, 2023 08:15 PM</td>\n",
       "      <td>exmark</td>\n",
       "      <td>16</td>\n",
       "      <td>2023-12-19 20:15:00</td>\n",
       "      <td>0 days 00:06:00</td>\n",
       "    </tr>\n",
       "    <tr>\n",
       "      <th>5</th>\n",
       "      <td>7</td>\n",
       "      <td>\"the complex phenomenon of the increasing numb...</td>\n",
       "      <td>19 Dec, 2023 08:16 PM</td>\n",
       "      <td>drachenfels99</td>\n",
       "      <td>8</td>\n",
       "      <td>2023-12-19 20:16:00</td>\n",
       "      <td>0 days 00:07:00</td>\n",
       "    </tr>\n",
       "    <tr>\n",
       "      <th>6</th>\n",
       "      <td>90</td>\n",
       "      <td>Home0s want to teach</td>\n",
       "      <td>19 Dec, 2023 08:16 PM</td>\n",
       "      <td>betty_davis_eyes</td>\n",
       "      <td>91</td>\n",
       "      <td>2023-12-19 20:16:00</td>\n",
       "      <td>0 days 00:07:00</td>\n",
       "    </tr>\n",
       "    <tr>\n",
       "      <th>7</th>\n",
       "      <td>25</td>\n",
       "      <td>The only thing a teacher should ever say to an...</td>\n",
       "      <td>19 Dec, 2023 08:16 PM</td>\n",
       "      <td>perogi007</td>\n",
       "      <td>26</td>\n",
       "      <td>2023-12-19 20:16:00</td>\n",
       "      <td>0 days 00:07:00</td>\n",
       "    </tr>\n",
       "    <tr>\n",
       "      <th>8</th>\n",
       "      <td>9</td>\n",
       "      <td>Finally some common sense from the British. Ho...</td>\n",
       "      <td>19 Dec, 2023 08:16 PM</td>\n",
       "      <td>patriotforever937328</td>\n",
       "      <td>10</td>\n",
       "      <td>2023-12-19 20:16:00</td>\n",
       "      <td>0 days 00:07:00</td>\n",
       "    </tr>\n",
       "    <tr>\n",
       "      <th>9</th>\n",
       "      <td>47</td>\n",
       "      <td>If they aren't over 18yrs, there should NEVER ...</td>\n",
       "      <td>19 Dec, 2023 08:17 PM</td>\n",
       "      <td>usmc18317</td>\n",
       "      <td>48</td>\n",
       "      <td>2023-12-19 20:17:00</td>\n",
       "      <td>0 days 00:08:00</td>\n",
       "    </tr>\n",
       "    <tr>\n",
       "      <th>10</th>\n",
       "      <td>91</td>\n",
       "      <td>Why would they accept any, unless they are del...</td>\n",
       "      <td>19 Dec, 2023 08:17 PM</td>\n",
       "      <td>Trollogre</td>\n",
       "      <td>92</td>\n",
       "      <td>2023-12-19 20:17:00</td>\n",
       "      <td>0 days 00:08:00</td>\n",
       "    </tr>\n",
       "    <tr>\n",
       "      <th>11</th>\n",
       "      <td>77</td>\n",
       "      <td>Laying the ground work for a lifetime of self ...</td>\n",
       "      <td>19 Dec, 2023 08:19 PM</td>\n",
       "      <td>Ernie-up-North</td>\n",
       "      <td>78</td>\n",
       "      <td>2023-12-19 20:19:00</td>\n",
       "      <td>0 days 00:10:00</td>\n",
       "    </tr>\n",
       "    <tr>\n",
       "      <th>12</th>\n",
       "      <td>95</td>\n",
       "      <td>Amazing the Brits have more common sense than ...</td>\n",
       "      <td>19 Dec, 2023 08:20 PM</td>\n",
       "      <td>usalways2020</td>\n",
       "      <td>96</td>\n",
       "      <td>2023-12-19 20:20:00</td>\n",
       "      <td>0 days 00:11:00</td>\n",
       "    </tr>\n",
       "    <tr>\n",
       "      <th>13</th>\n",
       "      <td>32</td>\n",
       "      <td>Not really, they will arrest you for silent pr...</td>\n",
       "      <td>19 Dec, 2023 08:21 PM</td>\n",
       "      <td>drachenfels99</td>\n",
       "      <td>33</td>\n",
       "      <td>2023-12-19 20:21:00</td>\n",
       "      <td>0 days 00:12:00</td>\n",
       "    </tr>\n",
       "    <tr>\n",
       "      <th>14</th>\n",
       "      <td>96</td>\n",
       "      <td>Not really, they just have been transitioning ...</td>\n",
       "      <td>19 Dec, 2023 08:21 PM</td>\n",
       "      <td>myviewonly</td>\n",
       "      <td>97</td>\n",
       "      <td>2023-12-19 20:21:00</td>\n",
       "      <td>0 days 00:12:00</td>\n",
       "    </tr>\n",
       "    <tr>\n",
       "      <th>15</th>\n",
       "      <td>44</td>\n",
       "      <td>Teachers should not be having any discussions ...</td>\n",
       "      <td>19 Dec, 2023 08:22 PM</td>\n",
       "      <td>rhodeisland</td>\n",
       "      <td>45</td>\n",
       "      <td>2023-12-19 20:22:00</td>\n",
       "      <td>0 days 00:13:00</td>\n",
       "    </tr>\n",
       "    <tr>\n",
       "      <th>16</th>\n",
       "      <td>75</td>\n",
       "      <td>The US needs to take notes.</td>\n",
       "      <td>19 Dec, 2023 08:23 PM</td>\n",
       "      <td>WoodenSaucer</td>\n",
       "      <td>76</td>\n",
       "      <td>2023-12-19 20:23:00</td>\n",
       "      <td>0 days 00:14:00</td>\n",
       "    </tr>\n",
       "    <tr>\n",
       "      <th>17</th>\n",
       "      <td>35</td>\n",
       "      <td>It can be simpler; just tell them their parent...</td>\n",
       "      <td>19 Dec, 2023 08:25 PM</td>\n",
       "      <td>COLDHEAT-</td>\n",
       "      <td>36</td>\n",
       "      <td>2023-12-19 20:25:00</td>\n",
       "      <td>0 days 00:16:00</td>\n",
       "    </tr>\n",
       "    <tr>\n",
       "      <th>18</th>\n",
       "      <td>65</td>\n",
       "      <td>Jolly good oily by England. America can learn ...</td>\n",
       "      <td>19 Dec, 2023 08:25 PM</td>\n",
       "      <td>🍔CheeseburgersOnFIre</td>\n",
       "      <td>66</td>\n",
       "      <td>2023-12-19 20:25:00</td>\n",
       "      <td>0 days 00:16:00</td>\n",
       "    </tr>\n",
       "    <tr>\n",
       "      <th>19</th>\n",
       "      <td>0</td>\n",
       "      <td>As many others have pointed out, we have had n...</td>\n",
       "      <td>19 Dec, 2023 08:27 PM</td>\n",
       "      <td>SebastianFinn</td>\n",
       "      <td>1</td>\n",
       "      <td>2023-12-19 20:27:00</td>\n",
       "      <td>0 days 00:18:00</td>\n",
       "    </tr>\n",
       "  </tbody>\n",
       "</table>\n",
       "</div>"
      ],
      "text/plain": [
       "    Unnamed: 0                                            comment  \\\n",
       "0           31         Glad to hear the UK has some common sense    \n",
       "1          109  Thank God Fox keeps us up to date on culture w...   \n",
       "2           89  Why would anyone want to be a teacher? It's ki...   \n",
       "3           18  If a student has a gender request it means the...   \n",
       "4           15  Nobody, regardless of position relative to the...   \n",
       "5            7  \"the complex phenomenon of the increasing numb...   \n",
       "6           90                              Home0s want to teach    \n",
       "7           25  The only thing a teacher should ever say to an...   \n",
       "8            9  Finally some common sense from the British. Ho...   \n",
       "9           47  If they aren't over 18yrs, there should NEVER ...   \n",
       "10          91  Why would they accept any, unless they are del...   \n",
       "11          77  Laying the ground work for a lifetime of self ...   \n",
       "12          95  Amazing the Brits have more common sense than ...   \n",
       "13          32  Not really, they will arrest you for silent pr...   \n",
       "14          96  Not really, they just have been transitioning ...   \n",
       "15          44  Teachers should not be having any discussions ...   \n",
       "16          75                       The US needs to take notes.    \n",
       "17          35  It can be simpler; just tell them their parent...   \n",
       "18          65  Jolly good oily by England. America can learn ...   \n",
       "19           0  As many others have pointed out, we have had n...   \n",
       "\n",
       "                     time              username   id            timestamp  \\\n",
       "0   19 Dec, 2023 08:09 PM           justjoshin’   32  2023-12-19 20:09:00   \n",
       "1   19 Dec, 2023 08:11 PM             usmckurt1  110  2023-12-19 20:11:00   \n",
       "2   19 Dec, 2023 08:13 PM  Gaza.Glass.workx.LLC   90  2023-12-19 20:13:00   \n",
       "3   19 Dec, 2023 08:13 PM      betty_davis_eyes   19  2023-12-19 20:13:00   \n",
       "4   19 Dec, 2023 08:15 PM                exmark   16  2023-12-19 20:15:00   \n",
       "5   19 Dec, 2023 08:16 PM         drachenfels99    8  2023-12-19 20:16:00   \n",
       "6   19 Dec, 2023 08:16 PM      betty_davis_eyes   91  2023-12-19 20:16:00   \n",
       "7   19 Dec, 2023 08:16 PM             perogi007   26  2023-12-19 20:16:00   \n",
       "8   19 Dec, 2023 08:16 PM  patriotforever937328   10  2023-12-19 20:16:00   \n",
       "9   19 Dec, 2023 08:17 PM             usmc18317   48  2023-12-19 20:17:00   \n",
       "10  19 Dec, 2023 08:17 PM             Trollogre   92  2023-12-19 20:17:00   \n",
       "11  19 Dec, 2023 08:19 PM        Ernie-up-North   78  2023-12-19 20:19:00   \n",
       "12  19 Dec, 2023 08:20 PM          usalways2020   96  2023-12-19 20:20:00   \n",
       "13  19 Dec, 2023 08:21 PM         drachenfels99   33  2023-12-19 20:21:00   \n",
       "14  19 Dec, 2023 08:21 PM            myviewonly   97  2023-12-19 20:21:00   \n",
       "15  19 Dec, 2023 08:22 PM           rhodeisland   45  2023-12-19 20:22:00   \n",
       "16  19 Dec, 2023 08:23 PM          WoodenSaucer   76  2023-12-19 20:23:00   \n",
       "17  19 Dec, 2023 08:25 PM             COLDHEAT-   36  2023-12-19 20:25:00   \n",
       "18  19 Dec, 2023 08:25 PM  🍔CheeseburgersOnFIre   66  2023-12-19 20:25:00   \n",
       "19  19 Dec, 2023 08:27 PM         SebastianFinn    1  2023-12-19 20:27:00   \n",
       "\n",
       "          time_diff  \n",
       "0   0 days 00:00:00  \n",
       "1   0 days 00:02:00  \n",
       "2   0 days 00:04:00  \n",
       "3   0 days 00:04:00  \n",
       "4   0 days 00:06:00  \n",
       "5   0 days 00:07:00  \n",
       "6   0 days 00:07:00  \n",
       "7   0 days 00:07:00  \n",
       "8   0 days 00:07:00  \n",
       "9   0 days 00:08:00  \n",
       "10  0 days 00:08:00  \n",
       "11  0 days 00:10:00  \n",
       "12  0 days 00:11:00  \n",
       "13  0 days 00:12:00  \n",
       "14  0 days 00:12:00  \n",
       "15  0 days 00:13:00  \n",
       "16  0 days 00:14:00  \n",
       "17  0 days 00:16:00  \n",
       "18  0 days 00:16:00  \n",
       "19  0 days 00:18:00  "
      ]
     },
     "execution_count": 14,
     "metadata": {},
     "output_type": "execute_result"
    }
   ],
   "source": [
    "df.head(20)"
   ]
  },
  {
   "cell_type": "code",
   "execution_count": 15,
   "metadata": {},
   "outputs": [
    {
     "data": {
      "text/plain": [
       "['Thank God Fox keeps us up to date on culture war news in the UK! ',\n",
       " '19 Dec, 2023 08:11 PM',\n",
       " 'usmckurt1',\n",
       " 110,\n",
       " '2023-12-19 20:11:00',\n",
       " '0 days 00:02:00']"
      ]
     },
     "execution_count": 15,
     "metadata": {},
     "output_type": "execute_result"
    }
   ],
   "source": [
    "list(df.iloc[1][1:])"
   ]
  },
  {
   "cell_type": "code",
   "execution_count": 16,
   "metadata": {},
   "outputs": [],
   "source": [
    "def get_so_far_comments(ith_comment):\n",
    "    # row_index = df.loc[df['id'] == comment_id].index[0]\n",
    "    ids = df.iloc[0:ith_comment+1]['id']\n",
    "    return list(ids)\n"
   ]
  },
  {
   "cell_type": "code",
   "execution_count": 17,
   "metadata": {},
   "outputs": [],
   "source": [
    "# get_so_far_comments(1)"
   ]
  },
  {
   "cell_type": "code",
   "execution_count": 18,
   "metadata": {},
   "outputs": [],
   "source": [
    "df_trend = pd.read_csv(os.path.join(parent_path, 'fox-unknown-trends.csv'))"
   ]
  },
  {
   "cell_type": "code",
   "execution_count": 19,
   "metadata": {},
   "outputs": [],
   "source": [
    "def get_single_trend_score(trend):\n",
    "    print(\"label: \", trend)\n",
    "    return list(df_trend[trend])"
   ]
  },
  {
   "cell_type": "code",
   "execution_count": 20,
   "metadata": {},
   "outputs": [],
   "source": [
    "# get_single_trend_score('toxic')"
   ]
  },
  {
   "cell_type": "code",
   "execution_count": 21,
   "metadata": {},
   "outputs": [],
   "source": [
    "from score_aggregation import get_emotion_trends_polarity\n",
    "\n",
    "def getData(index):\n",
    "    ids = get_so_far_comments(ith_comment=index)\n",
    "    print(\"Index: \", index)\n",
    "    print(\"So far Comments: \", ids)\n",
    "    escores, tscores, polarity = get_emotion_trends_polarity(ids)\n",
    "    return escores, tscores, polarity"
   ]
  },
  {
   "cell_type": "code",
   "execution_count": 22,
   "metadata": {},
   "outputs": [
    {
     "name": "stdout",
     "output_type": "stream",
     "text": [
      " * Serving Flask app '__main__'\n",
      " * Debug mode: off\n"
     ]
    },
    {
     "name": "stderr",
     "output_type": "stream",
     "text": [
      "WARNING: This is a development server. Do not use it in a production deployment. Use a production WSGI server instead.\n",
      " * Running on http://127.0.0.1:5000\n",
      "Press CTRL+C to quit\n",
      "127.0.0.1 - - [22/Dec/2023 00:01:22] \"GET /api/data/0 HTTP/1.1\" 200 -\n"
     ]
    },
    {
     "name": "stdout",
     "output_type": "stream",
     "text": [
      "Index:  0\n",
      "So far Comments:  [32]\n"
     ]
    },
    {
     "name": "stderr",
     "output_type": "stream",
     "text": [
      "127.0.0.1 - - [22/Dec/2023 00:01:29] \"GET /api/data/single-trend/toxic HTTP/1.1\" 200 -\n"
     ]
    },
    {
     "name": "stdout",
     "output_type": "stream",
     "text": [
      "label:  toxic\n"
     ]
    },
    {
     "name": "stderr",
     "output_type": "stream",
     "text": [
      "[2023-12-22 00:01:32,417] ERROR in app: Exception on /api/data/single-trend/obsence [GET]\n",
      "Traceback (most recent call last):\n",
      "  File \"C:\\Users\\SIU856533724\\AppData\\Local\\Packages\\PythonSoftwareFoundation.Python.3.9_qbz5n2kfra8p0\\LocalCache\\local-packages\\Python39\\site-packages\\pandas\\core\\indexes\\base.py\", line 3803, in get_loc\n",
      "    return self._engine.get_loc(casted_key)\n",
      "  File \"pandas\\_libs\\index.pyx\", line 138, in pandas._libs.index.IndexEngine.get_loc\n",
      "  File \"pandas\\_libs\\index.pyx\", line 165, in pandas._libs.index.IndexEngine.get_loc\n",
      "  File \"pandas\\_libs\\hashtable_class_helper.pxi\", line 5745, in pandas._libs.hashtable.PyObjectHashTable.get_item\n",
      "  File \"pandas\\_libs\\hashtable_class_helper.pxi\", line 5753, in pandas._libs.hashtable.PyObjectHashTable.get_item\n",
      "KeyError: 'obsence'\n",
      "\n",
      "The above exception was the direct cause of the following exception:\n",
      "\n",
      "Traceback (most recent call last):\n",
      "  File \"C:\\Users\\SIU856533724\\AppData\\Local\\Packages\\PythonSoftwareFoundation.Python.3.9_qbz5n2kfra8p0\\LocalCache\\local-packages\\Python39\\site-packages\\flask\\app.py\", line 2190, in wsgi_app\n",
      "    response = self.full_dispatch_request()\n",
      "  File \"C:\\Users\\SIU856533724\\AppData\\Local\\Packages\\PythonSoftwareFoundation.Python.3.9_qbz5n2kfra8p0\\LocalCache\\local-packages\\Python39\\site-packages\\flask\\app.py\", line 1486, in full_dispatch_request\n",
      "    rv = self.handle_user_exception(e)\n",
      "  File \"C:\\Users\\SIU856533724\\AppData\\Local\\Packages\\PythonSoftwareFoundation.Python.3.9_qbz5n2kfra8p0\\LocalCache\\local-packages\\Python39\\site-packages\\flask_cors\\extension.py\", line 165, in wrapped_function\n",
      "    return cors_after_request(app.make_response(f(*args, **kwargs)))\n",
      "  File \"C:\\Users\\SIU856533724\\AppData\\Local\\Packages\\PythonSoftwareFoundation.Python.3.9_qbz5n2kfra8p0\\LocalCache\\local-packages\\Python39\\site-packages\\flask\\app.py\", line 1484, in full_dispatch_request\n",
      "    rv = self.dispatch_request()\n",
      "  File \"C:\\Users\\SIU856533724\\AppData\\Local\\Packages\\PythonSoftwareFoundation.Python.3.9_qbz5n2kfra8p0\\LocalCache\\local-packages\\Python39\\site-packages\\flask\\app.py\", line 1469, in dispatch_request\n",
      "    return self.ensure_sync(self.view_functions[rule.endpoint])(**view_args)\n",
      "  File \"C:\\Users\\SIU856533724\\AppData\\Local\\Temp\\ipykernel_30796\\29848204.py\", line 25, in getSingleTrend\n",
      "    return json.dumps({\"singlerend\": get_single_trend_score(label)})\n",
      "  File \"C:\\Users\\SIU856533724\\AppData\\Local\\Temp\\ipykernel_30796\\441968879.py\", line 3, in get_single_trend_score\n",
      "    return list(df_trend[trend])\n",
      "  File \"C:\\Users\\SIU856533724\\AppData\\Local\\Packages\\PythonSoftwareFoundation.Python.3.9_qbz5n2kfra8p0\\LocalCache\\local-packages\\Python39\\site-packages\\pandas\\core\\frame.py\", line 3804, in __getitem__\n",
      "    indexer = self.columns.get_loc(key)\n",
      "  File \"C:\\Users\\SIU856533724\\AppData\\Local\\Packages\\PythonSoftwareFoundation.Python.3.9_qbz5n2kfra8p0\\LocalCache\\local-packages\\Python39\\site-packages\\pandas\\core\\indexes\\base.py\", line 3805, in get_loc\n",
      "    raise KeyError(key) from err\n",
      "KeyError: 'obsence'\n",
      "127.0.0.1 - - [22/Dec/2023 00:01:32] \"GET /api/data/single-trend/obsence HTTP/1.1\" 500 -\n"
     ]
    },
    {
     "name": "stdout",
     "output_type": "stream",
     "text": [
      "label:  obsence\n"
     ]
    },
    {
     "name": "stderr",
     "output_type": "stream",
     "text": [
      "127.0.0.1 - - [22/Dec/2023 00:02:27] \"GET /api/data/0 HTTP/1.1\" 200 -\n"
     ]
    },
    {
     "name": "stdout",
     "output_type": "stream",
     "text": [
      "Index:  0\n",
      "So far Comments:  [32]\n"
     ]
    },
    {
     "name": "stderr",
     "output_type": "stream",
     "text": [
      "127.0.0.1 - - [22/Dec/2023 00:02:38] \"GET /api/data/single-trend/toxic HTTP/1.1\" 200 -\n"
     ]
    },
    {
     "name": "stdout",
     "output_type": "stream",
     "text": [
      "label:  toxic\n"
     ]
    },
    {
     "name": "stderr",
     "output_type": "stream",
     "text": [
      "127.0.0.1 - - [22/Dec/2023 00:02:40] \"GET /api/data/single-trend/obscene HTTP/1.1\" 200 -\n"
     ]
    },
    {
     "name": "stdout",
     "output_type": "stream",
     "text": [
      "label:  obscene\n"
     ]
    },
    {
     "name": "stderr",
     "output_type": "stream",
     "text": [
      "127.0.0.1 - - [22/Dec/2023 00:02:42] \"GET /api/data/single-trend/insult HTTP/1.1\" 200 -\n"
     ]
    },
    {
     "name": "stdout",
     "output_type": "stream",
     "text": [
      "label:  insult\n"
     ]
    },
    {
     "name": "stderr",
     "output_type": "stream",
     "text": [
      "127.0.0.1 - - [22/Dec/2023 00:02:44] \"GET /api/data/single-trend/threat HTTP/1.1\" 200 -\n"
     ]
    },
    {
     "name": "stdout",
     "output_type": "stream",
     "text": [
      "label:  threat\n"
     ]
    },
    {
     "name": "stderr",
     "output_type": "stream",
     "text": [
      "127.0.0.1 - - [22/Dec/2023 00:02:46] \"GET /api/data/single-trend/hate HTTP/1.1\" 200 -\n"
     ]
    },
    {
     "name": "stdout",
     "output_type": "stream",
     "text": [
      "label:  hate\n"
     ]
    },
    {
     "name": "stderr",
     "output_type": "stream",
     "text": [
      "127.0.0.1 - - [22/Dec/2023 00:02:48] \"GET /api/data/single-trend/offensive HTTP/1.1\" 200 -\n"
     ]
    },
    {
     "name": "stdout",
     "output_type": "stream",
     "text": [
      "label:  offensive\n"
     ]
    },
    {
     "name": "stderr",
     "output_type": "stream",
     "text": [
      "127.0.0.1 - - [22/Dec/2023 00:02:52] \"GET /api/data/single-trend/neither HTTP/1.1\" 200 -\n"
     ]
    },
    {
     "name": "stdout",
     "output_type": "stream",
     "text": [
      "label:  neither\n"
     ]
    },
    {
     "name": "stderr",
     "output_type": "stream",
     "text": [
      "127.0.0.1 - - [22/Dec/2023 00:05:18] \"GET /api/data/0 HTTP/1.1\" 200 -\n"
     ]
    },
    {
     "name": "stdout",
     "output_type": "stream",
     "text": [
      "Index:  0\n",
      "So far Comments:  [32]\n"
     ]
    },
    {
     "name": "stderr",
     "output_type": "stream",
     "text": [
      "127.0.0.1 - - [22/Dec/2023 00:05:28] \"GET /api/data/single-trend/toxic HTTP/1.1\" 200 -\n"
     ]
    },
    {
     "name": "stdout",
     "output_type": "stream",
     "text": [
      "label:  toxic\n"
     ]
    },
    {
     "name": "stderr",
     "output_type": "stream",
     "text": [
      "127.0.0.1 - - [22/Dec/2023 00:05:30] \"GET /api/data/single-trend/approval HTTP/1.1\" 200 -\n"
     ]
    },
    {
     "name": "stdout",
     "output_type": "stream",
     "text": [
      "label:  approval\n"
     ]
    },
    {
     "name": "stderr",
     "output_type": "stream",
     "text": [
      "127.0.0.1 - - [22/Dec/2023 00:05:33] \"GET /api/data/single-trend/obscene HTTP/1.1\" 200 -\n"
     ]
    },
    {
     "name": "stdout",
     "output_type": "stream",
     "text": [
      "label:  obscene\n"
     ]
    },
    {
     "name": "stderr",
     "output_type": "stream",
     "text": [
      "127.0.0.1 - - [22/Dec/2023 00:05:37] \"GET /api/data/single-trend/insult HTTP/1.1\" 200 -\n"
     ]
    },
    {
     "name": "stdout",
     "output_type": "stream",
     "text": [
      "label:  insult\n"
     ]
    },
    {
     "name": "stderr",
     "output_type": "stream",
     "text": [
      "127.0.0.1 - - [22/Dec/2023 00:05:39] \"GET /api/data/single-trend/threat HTTP/1.1\" 200 -\n"
     ]
    },
    {
     "name": "stdout",
     "output_type": "stream",
     "text": [
      "label:  threat\n"
     ]
    },
    {
     "name": "stderr",
     "output_type": "stream",
     "text": [
      "127.0.0.1 - - [22/Dec/2023 00:05:43] \"GET /api/data/single-trend/hate HTTP/1.1\" 200 -\n"
     ]
    },
    {
     "name": "stdout",
     "output_type": "stream",
     "text": [
      "label:  hate\n"
     ]
    },
    {
     "name": "stderr",
     "output_type": "stream",
     "text": [
      "127.0.0.1 - - [22/Dec/2023 00:05:47] \"GET /api/data/single-trend/offensive HTTP/1.1\" 200 -\n"
     ]
    },
    {
     "name": "stdout",
     "output_type": "stream",
     "text": [
      "label:  offensive\n"
     ]
    },
    {
     "name": "stderr",
     "output_type": "stream",
     "text": [
      "127.0.0.1 - - [22/Dec/2023 00:05:50] \"GET /api/data/single-trend/neither HTTP/1.1\" 200 -\n"
     ]
    },
    {
     "name": "stdout",
     "output_type": "stream",
     "text": [
      "label:  neither\n"
     ]
    },
    {
     "name": "stderr",
     "output_type": "stream",
     "text": [
      "127.0.0.1 - - [22/Dec/2023 14:05:17] \"GET /api/data/0 HTTP/1.1\" 200 -\n"
     ]
    },
    {
     "name": "stdout",
     "output_type": "stream",
     "text": [
      "Index:  0\n",
      "So far Comments:  [32]\n"
     ]
    },
    {
     "name": "stderr",
     "output_type": "stream",
     "text": [
      "127.0.0.1 - - [22/Dec/2023 14:06:04] \"GET /api/data/0 HTTP/1.1\" 200 -\n"
     ]
    },
    {
     "name": "stdout",
     "output_type": "stream",
     "text": [
      "Index:  0\n",
      "So far Comments:  [32]\n"
     ]
    },
    {
     "name": "stderr",
     "output_type": "stream",
     "text": [
      "127.0.0.1 - - [22/Dec/2023 14:06:10] \"GET /api/data/single-trend/toxic HTTP/1.1\" 200 -\n"
     ]
    },
    {
     "name": "stdout",
     "output_type": "stream",
     "text": [
      "label:  toxic\n"
     ]
    },
    {
     "name": "stderr",
     "output_type": "stream",
     "text": [
      "127.0.0.1 - - [22/Dec/2023 14:06:12] \"GET /api/data/single-trend/approval HTTP/1.1\" 200 -\n"
     ]
    },
    {
     "name": "stdout",
     "output_type": "stream",
     "text": [
      "label:  approval\n"
     ]
    },
    {
     "name": "stderr",
     "output_type": "stream",
     "text": [
      "127.0.0.1 - - [22/Dec/2023 14:06:14] \"GET /api/data/single-trend/obscene HTTP/1.1\" 200 -\n"
     ]
    },
    {
     "name": "stdout",
     "output_type": "stream",
     "text": [
      "label:  obscene\n"
     ]
    },
    {
     "name": "stderr",
     "output_type": "stream",
     "text": [
      "127.0.0.1 - - [22/Dec/2023 14:06:15] \"GET /api/data/single-trend/insult HTTP/1.1\" 200 -\n"
     ]
    },
    {
     "name": "stdout",
     "output_type": "stream",
     "text": [
      "label:  insult\n"
     ]
    },
    {
     "name": "stderr",
     "output_type": "stream",
     "text": [
      "127.0.0.1 - - [22/Dec/2023 14:06:16] \"GET /api/data/single-trend/threat HTTP/1.1\" 200 -\n"
     ]
    },
    {
     "name": "stdout",
     "output_type": "stream",
     "text": [
      "label:  threat\n"
     ]
    },
    {
     "name": "stderr",
     "output_type": "stream",
     "text": [
      "127.0.0.1 - - [22/Dec/2023 14:06:17] \"GET /api/data/single-trend/hate HTTP/1.1\" 200 -\n"
     ]
    },
    {
     "name": "stdout",
     "output_type": "stream",
     "text": [
      "label:  hate\n"
     ]
    },
    {
     "name": "stderr",
     "output_type": "stream",
     "text": [
      "127.0.0.1 - - [22/Dec/2023 14:06:19] \"GET /api/data/single-trend/neither HTTP/1.1\" 200 -\n"
     ]
    },
    {
     "name": "stdout",
     "output_type": "stream",
     "text": [
      "label:  neither\n"
     ]
    },
    {
     "name": "stderr",
     "output_type": "stream",
     "text": [
      "127.0.0.1 - - [22/Dec/2023 14:06:20] \"GET /api/data/single-trend/offensive HTTP/1.1\" 200 -\n"
     ]
    },
    {
     "name": "stdout",
     "output_type": "stream",
     "text": [
      "label:  offensive\n"
     ]
    },
    {
     "name": "stderr",
     "output_type": "stream",
     "text": [
      "127.0.0.1 - - [22/Dec/2023 14:06:29] \"GET /api/data/1 HTTP/1.1\" 200 -\n"
     ]
    },
    {
     "name": "stdout",
     "output_type": "stream",
     "text": [
      "Index:  1\n",
      "So far Comments:  [32, 110]\n"
     ]
    },
    {
     "name": "stderr",
     "output_type": "stream",
     "text": [
      "127.0.0.1 - - [22/Dec/2023 14:06:30] \"GET /api/data/2 HTTP/1.1\" 200 -\n"
     ]
    },
    {
     "name": "stdout",
     "output_type": "stream",
     "text": [
      "Index:  2\n",
      "So far Comments:  [32, 110, 90]\n"
     ]
    },
    {
     "name": "stderr",
     "output_type": "stream",
     "text": [
      "127.0.0.1 - - [22/Dec/2023 14:06:33] \"GET /api/data/3 HTTP/1.1\" 200 -\n"
     ]
    },
    {
     "name": "stdout",
     "output_type": "stream",
     "text": [
      "Index:  3\n",
      "So far Comments:  [32, 110, 90, 19]\n"
     ]
    },
    {
     "name": "stderr",
     "output_type": "stream",
     "text": [
      "127.0.0.1 - - [22/Dec/2023 14:06:34] \"GET /api/data/4 HTTP/1.1\" 200 -\n"
     ]
    },
    {
     "name": "stdout",
     "output_type": "stream",
     "text": [
      "Index:  4\n",
      "So far Comments:  [32, 110, 90, 19, 16]\n"
     ]
    },
    {
     "name": "stderr",
     "output_type": "stream",
     "text": [
      "127.0.0.1 - - [22/Dec/2023 14:06:37] \"GET /api/data/5 HTTP/1.1\" 200 -\n"
     ]
    },
    {
     "name": "stdout",
     "output_type": "stream",
     "text": [
      "Index:  5\n",
      "So far Comments:  [32, 110, 90, 19, 16, 8]\n"
     ]
    },
    {
     "name": "stderr",
     "output_type": "stream",
     "text": [
      "127.0.0.1 - - [22/Dec/2023 14:06:54] \"GET /api/data/5 HTTP/1.1\" 200 -\n"
     ]
    },
    {
     "name": "stdout",
     "output_type": "stream",
     "text": [
      "Index:  5\n",
      "So far Comments:  [32, 110, 90, 19, 16, 8]\n"
     ]
    },
    {
     "name": "stderr",
     "output_type": "stream",
     "text": [
      "127.0.0.1 - - [22/Dec/2023 14:06:56] \"GET /api/data/5 HTTP/1.1\" 200 -\n"
     ]
    },
    {
     "name": "stdout",
     "output_type": "stream",
     "text": [
      "Index:  5\n",
      "So far Comments:  [32, 110, 90, 19, 16, 8]\n"
     ]
    },
    {
     "name": "stderr",
     "output_type": "stream",
     "text": [
      "127.0.0.1 - - [22/Dec/2023 14:06:58] \"GET /api/data/5 HTTP/1.1\" 200 -\n"
     ]
    },
    {
     "name": "stdout",
     "output_type": "stream",
     "text": [
      "Index:  5\n",
      "So far Comments:  [32, 110, 90, 19, 16, 8]\n"
     ]
    },
    {
     "name": "stderr",
     "output_type": "stream",
     "text": [
      "127.0.0.1 - - [22/Dec/2023 14:07:41] \"GET /api/data/6 HTTP/1.1\" 200 -\n"
     ]
    },
    {
     "name": "stdout",
     "output_type": "stream",
     "text": [
      "Index:  6\n",
      "So far Comments:  [32, 110, 90, 19, 16, 8, 91]\n"
     ]
    },
    {
     "name": "stderr",
     "output_type": "stream",
     "text": [
      "127.0.0.1 - - [22/Dec/2023 14:07:43] \"GET /api/data/7 HTTP/1.1\" 200 -\n"
     ]
    },
    {
     "name": "stdout",
     "output_type": "stream",
     "text": [
      "Index:  7\n",
      "So far Comments:  [32, 110, 90, 19, 16, 8, 91, 26]\n"
     ]
    },
    {
     "name": "stderr",
     "output_type": "stream",
     "text": [
      "127.0.0.1 - - [22/Dec/2023 14:07:45] \"GET /api/data/8 HTTP/1.1\" 200 -\n"
     ]
    },
    {
     "name": "stdout",
     "output_type": "stream",
     "text": [
      "Index:  8\n",
      "So far Comments:  [32, 110, 90, 19, 16, 8, 91, 26, 10]\n"
     ]
    },
    {
     "name": "stderr",
     "output_type": "stream",
     "text": [
      "127.0.0.1 - - [22/Dec/2023 14:07:47] \"GET /api/data/9 HTTP/1.1\" 200 -\n"
     ]
    },
    {
     "name": "stdout",
     "output_type": "stream",
     "text": [
      "Index:  9\n",
      "So far Comments:  [32, 110, 90, 19, 16, 8, 91, 26, 10, 48]\n"
     ]
    },
    {
     "name": "stderr",
     "output_type": "stream",
     "text": [
      "127.0.0.1 - - [22/Dec/2023 14:08:13] \"GET /api/data/single-trend/neither HTTP/1.1\" 200 -\n"
     ]
    },
    {
     "name": "stdout",
     "output_type": "stream",
     "text": [
      "label:  neither\n"
     ]
    },
    {
     "name": "stderr",
     "output_type": "stream",
     "text": [
      "127.0.0.1 - - [22/Dec/2023 14:08:14] \"GET /api/data/single-trend/offensive HTTP/1.1\" 200 -\n"
     ]
    },
    {
     "name": "stdout",
     "output_type": "stream",
     "text": [
      "label:  offensive\n"
     ]
    },
    {
     "name": "stderr",
     "output_type": "stream",
     "text": [
      "127.0.0.1 - - [22/Dec/2023 14:08:17] \"GET /api/data/single-trend/hate HTTP/1.1\" 200 -\n"
     ]
    },
    {
     "name": "stdout",
     "output_type": "stream",
     "text": [
      "label:  hate\n"
     ]
    },
    {
     "name": "stderr",
     "output_type": "stream",
     "text": [
      "127.0.0.1 - - [22/Dec/2023 14:08:18] \"GET /api/data/single-trend/threat HTTP/1.1\" 200 -\n"
     ]
    },
    {
     "name": "stdout",
     "output_type": "stream",
     "text": [
      "label:  threat\n"
     ]
    },
    {
     "name": "stderr",
     "output_type": "stream",
     "text": [
      "127.0.0.1 - - [22/Dec/2023 14:08:20] \"GET /api/data/single-trend/insult HTTP/1.1\" 200 -\n"
     ]
    },
    {
     "name": "stdout",
     "output_type": "stream",
     "text": [
      "label:  insult\n"
     ]
    },
    {
     "name": "stderr",
     "output_type": "stream",
     "text": [
      "127.0.0.1 - - [22/Dec/2023 14:08:22] \"GET /api/data/single-trend/obscene HTTP/1.1\" 200 -\n"
     ]
    },
    {
     "name": "stdout",
     "output_type": "stream",
     "text": [
      "label:  obscene\n"
     ]
    },
    {
     "name": "stderr",
     "output_type": "stream",
     "text": [
      "127.0.0.1 - - [22/Dec/2023 14:08:24] \"GET /api/data/single-trend/toxic HTTP/1.1\" 200 -\n"
     ]
    },
    {
     "name": "stdout",
     "output_type": "stream",
     "text": [
      "label:  toxic\n"
     ]
    },
    {
     "name": "stderr",
     "output_type": "stream",
     "text": [
      "127.0.0.1 - - [22/Dec/2023 14:08:25] \"GET /api/data/single-trend/approval HTTP/1.1\" 200 -\n"
     ]
    },
    {
     "name": "stdout",
     "output_type": "stream",
     "text": [
      "label:  approval\n"
     ]
    }
   ],
   "source": [
    "from flask import Flask, request, jsonify\n",
    "from flask_cors import CORS\n",
    "import json\n",
    "\n",
    "app = Flask(__name__)\n",
    "cors = CORS(app, resources={r\"/api/*\": {\"origins\": \"*\"}})\n",
    "\n",
    "@app.route('/api/new-comment', methods=['POST'])\n",
    "def welcome():\n",
    "    comment = request.json['content']\n",
    "    img = request.json['img']\n",
    "    isYou = request.json['isYou']\n",
    "    score = request.json['score']\n",
    "    username = request.json['username']\n",
    "    print(\"new: \", comment)\n",
    "    return 'Successfully comment added!'\n",
    "\n",
    "@app.route('/api/data/<int:id>', methods=['GET'])\n",
    "def getApiData(id: int):\n",
    "    escores, tscores, polarity = getData(id)\n",
    "    return json.dumps({\"escores\": escores, \"tscores\": tscores, \"polarity\": polarity})\n",
    "\n",
    "@app.route('/api/data/single-trend/<string:label>', methods=['GET'])\n",
    "def getSingleTrend(label: str):\n",
    "    return json.dumps({\"singlerend\": get_single_trend_score(label)})\n",
    "\n",
    "if __name__ == '__main__':\n",
    "    app.run(host='127.0.0.1', port=5000)"
   ]
  }
 ],
 "metadata": {
  "kernelspec": {
   "display_name": "Python 3",
   "language": "python",
   "name": "python3"
  },
  "language_info": {
   "codemirror_mode": {
    "name": "ipython",
    "version": 3
   },
   "file_extension": ".py",
   "mimetype": "text/x-python",
   "name": "python",
   "nbconvert_exporter": "python",
   "pygments_lexer": "ipython3",
   "version": "3.9.13"
  },
  "orig_nbformat": 4
 },
 "nbformat": 4,
 "nbformat_minor": 2
}
