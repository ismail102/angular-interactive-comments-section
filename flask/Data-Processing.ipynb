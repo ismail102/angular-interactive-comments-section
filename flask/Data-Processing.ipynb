{
 "cells": [
  {
   "cell_type": "code",
   "execution_count": null,
   "metadata": {},
   "outputs": [],
   "source": [
    "import torch\n",
    "import torch.nn as nn\n",
    "import pandas as pd\n",
    "import warnings\n",
    "import os\n",
    "warnings.filterwarnings('ignore')\n",
    "parent_path = 'C:\\\\Users\\\\ismai\\\\Documents\\\\Comment-Section-UI\\\\angular-interactive-comments-section\\\\flask\\\\data'"
   ]
  },
  {
   "cell_type": "code",
   "execution_count": null,
   "metadata": {},
   "outputs": [],
   "source": [
    "\n",
    "file_name = 'fox-new-york-could-face'\n",
    "file = os.path.join(parent_path, f'{file_name}.csv')\n",
    "df = pd.read_csv(file)"
   ]
  },
  {
   "cell_type": "code",
   "execution_count": null,
   "metadata": {},
   "outputs": [],
   "source": [
    "df.head(5)"
   ]
  },
  {
   "cell_type": "code",
   "execution_count": null,
   "metadata": {},
   "outputs": [],
   "source": [
    "list(df.iloc[1][1:])"
   ]
  },
  {
   "cell_type": "code",
   "execution_count": null,
   "metadata": {},
   "outputs": [],
   "source": [
    "def get_so_far_comments(ith_comment):\n",
    "    # row_index = df.loc[df['id'] == comment_id].index[0]\n",
    "    ids = df.iloc[0:ith_comment+1]['id']\n",
    "    return list(ids)\n"
   ]
  },
  {
   "cell_type": "code",
   "execution_count": null,
   "metadata": {},
   "outputs": [],
   "source": [
    "# get_so_far_comments(1)"
   ]
  },
  {
   "cell_type": "code",
   "execution_count": null,
   "metadata": {},
   "outputs": [],
   "source": [
    "df_trend = pd.read_csv(os.path.join(parent_path, f'{file_name}-trends.csv'))"
   ]
  },
  {
   "cell_type": "code",
   "execution_count": null,
   "metadata": {},
   "outputs": [],
   "source": [
    "df_trend.shape"
   ]
  },
  {
   "cell_type": "code",
   "execution_count": null,
   "metadata": {},
   "outputs": [],
   "source": [
    "def get_single_trend_score(trend):\n",
    "    print(\"label: \", trend)\n",
    "    return list(df_trend[trend])"
   ]
  },
  {
   "cell_type": "code",
   "execution_count": null,
   "metadata": {},
   "outputs": [],
   "source": [
    "# get_single_trend_score('toxic')"
   ]
  },
  {
   "cell_type": "code",
   "execution_count": null,
   "metadata": {},
   "outputs": [],
   "source": [
    "previous_emotion = []"
   ]
  },
  {
   "cell_type": "code",
   "execution_count": null,
   "metadata": {},
   "outputs": [],
   "source": [
    "import random\n",
    "\n",
    "def get_emotion(escores, id):\n",
    "    # print(\"id\")\n",
    "    if id == 0:\n",
    "        previous_emotion = escores\n",
    "\n",
    "    if id%100 == 0:\n",
    "        X = escores[27]*0.6\n",
    "        escores[27] = escores[27] - X\n",
    "        y = X*(random.sample(range(0, 100), 1)[0]/100)\n",
    "        random_numbers = random.sample(range(0, 27), 3)\n",
    "        escores[random_numbers[0]] = X*0.2\n",
    "        escores[random_numbers[1]] = X*0.7\n",
    "        escores[random_numbers[2]] = X*0.1\n",
    "        previous_emotion = escores\n",
    "        return escores\n",
    "    \n",
    "    if id%200 == 0:\n",
    "        X = escores[27]*0.6\n",
    "        escores[27] = escores[27] - X\n",
    "        y = X*(random.sample(range(0, 100), 1)[0]/100)\n",
    "        random_numbers = random.sample(range(0, 27), 3)\n",
    "        escores[random_numbers[0]] = X*0.1\n",
    "        escores[random_numbers[1]] = X*0.6\n",
    "        escores[random_numbers[2]] = X*0.3\n",
    "        previous_emotion = escores\n",
    "        return escores\n",
    "    \n",
    "    return previous_emotion\n"
   ]
  },
  {
   "cell_type": "code",
   "execution_count": null,
   "metadata": {},
   "outputs": [],
   "source": [
    "from score_aggregation import get_emotion_trends_polarity\n",
    "\n",
    "def getData(index):\n",
    "    ids = get_so_far_comments(ith_comment=index)\n",
    "    print(\"Index: \", index)\n",
    "    print(\"So far Comments: \", ids)\n",
    "    escores, tscores, polarity = get_emotion_trends_polarity(ids)\n",
    "    return escores, tscores, polarity"
   ]
  },
  {
   "cell_type": "code",
   "execution_count": 22,
   "metadata": {},
   "outputs": [],
   "source": [
    "from flask import Flask, request, jsonify\n",
    "from flask_cors import CORS\n",
    "import json\n",
    "\n",
    "app = Flask(__name__)\n",
    "cors = CORS(app, resources={r\"/api/*\": {\"origins\": \"*\"}})\n",
    "\n",
    "@app.route('/api/new-comment', methods=['POST'])\n",
    "def welcome():\n",
    "    comment = request.json['content']\n",
    "    img = request.json['img']\n",
    "    isYou = request.json['isYou']\n",
    "    score = request.json['score']\n",
    "    username = request.json['username']\n",
    "    print(\"new: \", comment)\n",
    "    return 'Successfully comment added!'\n",
    "\n",
    "@app.route('/api/data/<int:id>', methods=['GET'])\n",
    "def getApiData(id: int):\n",
    "    escores, tscores, polarity = getData(id)\n",
    "    escores = get_emotion(escores, id)\n",
    "    return json.dumps({\"escores\": escores, \"tscores\": tscores, \"polarity\": polarity})\n",
    "\n",
    "@app.route('/api/data/single-trend/<string:label>', methods=['GET'])\n",
    "def getSingleTrend(label: str):\n",
    "    return json.dumps({\"singletrend\": get_single_trend_score(label)})\n",
    "\n",
    "if __name__ == '__main__':\n",
    "    app.run(host='127.0.0.1', port=5000)"
   ]
  }
 ],
 "metadata": {
  "kernelspec": {
   "display_name": "Python 3",
   "language": "python",
   "name": "python3"
  },
  "language_info": {
   "codemirror_mode": {
    "name": "ipython",
    "version": 3
   },
   "file_extension": ".py",
   "mimetype": "text/x-python",
   "name": "python",
   "nbconvert_exporter": "python",
   "pygments_lexer": "ipython3",
   "version": "3.9.13"
  },
  "orig_nbformat": 4
 },
 "nbformat": 4,
 "nbformat_minor": 2
}
