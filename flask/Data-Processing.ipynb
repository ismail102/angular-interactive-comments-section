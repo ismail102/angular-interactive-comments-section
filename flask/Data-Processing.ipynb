{
 "cells": [
  {
   "cell_type": "code",
   "execution_count": 1,
   "metadata": {},
   "outputs": [],
   "source": [
    "import torch\n",
    "import torch.nn as nn\n",
    "import pandas as pd\n",
    "import warnings\n",
    "import os\n",
    "warnings.filterwarnings('ignore')\n",
    "parent_path = 'C:\\\\Users\\\\ismai\\\\Documents\\\\Comment-Section-UI\\\\angular-interactive-comments-section\\\\flask\\\\data'"
   ]
  },
  {
   "cell_type": "code",
   "execution_count": 2,
   "metadata": {},
   "outputs": [],
   "source": [
    "\n",
    "file_name = 'fox-new-york-could-face'\n",
    "file = os.path.join(parent_path, f'{file_name}.csv')\n",
    "df = pd.read_csv(file)"
   ]
  },
  {
   "cell_type": "code",
   "execution_count": 3,
   "metadata": {},
   "outputs": [
    {
     "data": {
      "text/html": [
       "<div>\n",
       "<style scoped>\n",
       "    .dataframe tbody tr th:only-of-type {\n",
       "        vertical-align: middle;\n",
       "    }\n",
       "\n",
       "    .dataframe tbody tr th {\n",
       "        vertical-align: top;\n",
       "    }\n",
       "\n",
       "    .dataframe thead th {\n",
       "        text-align: right;\n",
       "    }\n",
       "</style>\n",
       "<table border=\"1\" class=\"dataframe\">\n",
       "  <thead>\n",
       "    <tr style=\"text-align: right;\">\n",
       "      <th></th>\n",
       "      <th>Unnamed: 0</th>\n",
       "      <th>comment</th>\n",
       "      <th>time</th>\n",
       "      <th>username</th>\n",
       "      <th>id</th>\n",
       "      <th>timestamp</th>\n",
       "      <th>time_diff</th>\n",
       "    </tr>\n",
       "  </thead>\n",
       "  <tbody>\n",
       "    <tr>\n",
       "      <th>0</th>\n",
       "      <td>321</td>\n",
       "      <td>And so ... the 'lawful' cheating begins!</td>\n",
       "      <td>22 Dec, 2023 03:28 AM</td>\n",
       "      <td>senorbiggles</td>\n",
       "      <td>322</td>\n",
       "      <td>2023-12-22 03:28:00</td>\n",
       "      <td>0 days 00:00:00</td>\n",
       "    </tr>\n",
       "    <tr>\n",
       "      <th>1</th>\n",
       "      <td>875</td>\n",
       "      <td>And so ... the 'lawful' cheating begins!</td>\n",
       "      <td>22 Dec, 2023 03:28 AM</td>\n",
       "      <td>senorbiggles</td>\n",
       "      <td>876</td>\n",
       "      <td>2023-12-22 03:28:00</td>\n",
       "      <td>0 days 00:00:00</td>\n",
       "    </tr>\n",
       "    <tr>\n",
       "      <th>2</th>\n",
       "      <td>296</td>\n",
       "      <td>Democrats desperately rigging the elections in...</td>\n",
       "      <td>22 Dec, 2023 03:28 AM</td>\n",
       "      <td>HarryBaals404</td>\n",
       "      <td>297</td>\n",
       "      <td>2023-12-22 03:28:00</td>\n",
       "      <td>0 days 00:00:00</td>\n",
       "    </tr>\n",
       "    <tr>\n",
       "      <th>3</th>\n",
       "      <td>850</td>\n",
       "      <td>Democrats desperately rigging the elections in...</td>\n",
       "      <td>22 Dec, 2023 03:28 AM</td>\n",
       "      <td>HarryBaals404</td>\n",
       "      <td>851</td>\n",
       "      <td>2023-12-22 03:28:00</td>\n",
       "      <td>0 days 00:00:00</td>\n",
       "    </tr>\n",
       "    <tr>\n",
       "      <th>4</th>\n",
       "      <td>144</td>\n",
       "      <td>Democrats can’t win on their achievements so t...</td>\n",
       "      <td>22 Dec, 2023 03:29 AM</td>\n",
       "      <td>HarryBaals404</td>\n",
       "      <td>145</td>\n",
       "      <td>2023-12-22 03:29:00</td>\n",
       "      <td>0 days 00:01:00</td>\n",
       "    </tr>\n",
       "  </tbody>\n",
       "</table>\n",
       "</div>"
      ],
      "text/plain": [
       "   Unnamed: 0                                            comment  \\\n",
       "0         321           And so ... the 'lawful' cheating begins!   \n",
       "1         875           And so ... the 'lawful' cheating begins!   \n",
       "2         296  Democrats desperately rigging the elections in...   \n",
       "3         850  Democrats desperately rigging the elections in...   \n",
       "4         144  Democrats can’t win on their achievements so t...   \n",
       "\n",
       "                    time       username   id            timestamp  \\\n",
       "0  22 Dec, 2023 03:28 AM   senorbiggles  322  2023-12-22 03:28:00   \n",
       "1  22 Dec, 2023 03:28 AM   senorbiggles  876  2023-12-22 03:28:00   \n",
       "2  22 Dec, 2023 03:28 AM  HarryBaals404  297  2023-12-22 03:28:00   \n",
       "3  22 Dec, 2023 03:28 AM  HarryBaals404  851  2023-12-22 03:28:00   \n",
       "4  22 Dec, 2023 03:29 AM  HarryBaals404  145  2023-12-22 03:29:00   \n",
       "\n",
       "         time_diff  \n",
       "0  0 days 00:00:00  \n",
       "1  0 days 00:00:00  \n",
       "2  0 days 00:00:00  \n",
       "3  0 days 00:00:00  \n",
       "4  0 days 00:01:00  "
      ]
     },
     "execution_count": 3,
     "metadata": {},
     "output_type": "execute_result"
    }
   ],
   "source": [
    "df.head(5)"
   ]
  },
  {
   "cell_type": "code",
   "execution_count": 4,
   "metadata": {},
   "outputs": [
    {
     "data": {
      "text/plain": [
       "[\"And so ... the 'lawful' cheating begins!\",\n",
       " '22 Dec, 2023 03:28 AM',\n",
       " 'senorbiggles',\n",
       " 876,\n",
       " '2023-12-22 03:28:00',\n",
       " '0 days 00:00:00']"
      ]
     },
     "execution_count": 4,
     "metadata": {},
     "output_type": "execute_result"
    }
   ],
   "source": [
    "list(df.iloc[1][1:])"
   ]
  },
  {
   "cell_type": "code",
   "execution_count": 5,
   "metadata": {},
   "outputs": [],
   "source": [
    "def get_so_far_comments(ith_comment):\n",
    "    # row_index = df.loc[df['id'] == comment_id].index[0]\n",
    "    ids = df.iloc[0:ith_comment+1]['id']\n",
    "    return list(ids)\n"
   ]
  },
  {
   "cell_type": "code",
   "execution_count": 6,
   "metadata": {},
   "outputs": [],
   "source": [
    "# get_so_far_comments(1)"
   ]
  },
  {
   "cell_type": "code",
   "execution_count": 7,
   "metadata": {},
   "outputs": [],
   "source": [
    "df_trend = pd.read_csv(os.path.join(parent_path, f'{file_name}-trends.csv'))"
   ]
  },
  {
   "cell_type": "code",
   "execution_count": 8,
   "metadata": {},
   "outputs": [
    {
     "data": {
      "text/plain": [
       "(1064, 10)"
      ]
     },
     "execution_count": 8,
     "metadata": {},
     "output_type": "execute_result"
    }
   ],
   "source": [
    "df_trend.shape"
   ]
  },
  {
   "cell_type": "code",
   "execution_count": 9,
   "metadata": {},
   "outputs": [],
   "source": [
    "def get_single_trend_score(trend):\n",
    "    print(\"label: \", trend)\n",
    "    return list(df_trend[trend])"
   ]
  },
  {
   "cell_type": "code",
   "execution_count": 10,
   "metadata": {},
   "outputs": [],
   "source": [
    "# get_single_trend_score('toxic')"
   ]
  },
  {
   "cell_type": "code",
   "execution_count": 11,
   "metadata": {},
   "outputs": [],
   "source": [
    "previous_emotion = []"
   ]
  },
  {
   "cell_type": "code",
   "execution_count": 12,
   "metadata": {},
   "outputs": [],
   "source": [
    "# import random\n",
    "\n",
    "# def get_emotion(escores, id):\n",
    "#     # print(\"id\")\n",
    "#     if id == 0:\n",
    "#         previous_emotion = escores\n",
    "\n",
    "#     if id%100 == 0:\n",
    "#         X = escores[27]*0.6\n",
    "#         escores[27] = escores[27] - X\n",
    "#         y = X*(random.sample(range(0, 100), 1)[0]/100)\n",
    "#         random_numbers = random.sample(range(0, 27), 3)\n",
    "#         escores[random_numbers[0]] = X*0.2\n",
    "#         escores[random_numbers[1]] = X*0.7\n",
    "#         escores[random_numbers[2]] = X*0.1\n",
    "#         previous_emotion = escores\n",
    "#         return escores\n",
    "    \n",
    "#     if id%200 == 0:\n",
    "#         X = escores[27]*0.6\n",
    "#         escores[27] = escores[27] - X\n",
    "#         y = X*(random.sample(range(0, 100), 1)[0]/100)\n",
    "#         random_numbers = random.sample(range(0, 27), 3)\n",
    "#         escores[random_numbers[0]] = X*0.1\n",
    "#         escores[random_numbers[1]] = X*0.6\n",
    "#         escores[random_numbers[2]] = X*0.3\n",
    "#         previous_emotion = escores\n",
    "#         return escores\n",
    "    \n",
    "#     return previous_emotion\n"
   ]
  },
  {
   "cell_type": "code",
   "execution_count": 13,
   "metadata": {},
   "outputs": [],
   "source": [
    "from common_function import get_emotions, get_sentiment_dict\n",
    "from score_aggregation import get_polarity_score, find_indices\n",
    "\n",
    "emotions = list(get_emotions().values())\n",
    "sentiment_dict = get_sentiment_dict()"
   ]
  },
  {
   "cell_type": "code",
   "execution_count": 14,
   "metadata": {},
   "outputs": [],
   "source": [
    "pos_indices = find_indices(sentiment_dict['positive'], emotions)\n",
    "neg_indices = find_indices(sentiment_dict['negative'], emotions)\n",
    "amb_indices = find_indices(sentiment_dict['ambiguous'], emotions)\n",
    "neu_indices = find_indices(sentiment_dict['neutral'], emotions)\n",
    "\n",
    "def get_emotion(escores, id):\n",
    "    # print(escores)\n",
    "\n",
    "    if id < 200:\n",
    "        X = escores[27]*0.5\n",
    "        escores[27] = escores[27] - X\n",
    "        for i in amb_indices:\n",
    "            escores[i] += (X*0.10)\n",
    "\n",
    "    elif id > 200 and id < 500:\n",
    "        X = escores[27]*0.6\n",
    "        escores[27] = escores[27] - X\n",
    "        for i in pos_indices:\n",
    "            escores[i] += (X*0.10)\n",
    "    elif id > 500:\n",
    "        X = escores[27]*0.7\n",
    "        escores[27] = escores[27] - X\n",
    "        for i in neg_indices:\n",
    "            escores[i] += (X*0.10)\n",
    "\n",
    "    # print(escores)\n",
    "    escores =  [float(i)/sum(escores) for i in escores]\n",
    "\n",
    "    # print(\"SUM:\", sum(escores))\n",
    "    return escores"
   ]
  },
  {
   "cell_type": "code",
   "execution_count": 15,
   "metadata": {},
   "outputs": [],
   "source": [
    "from score_aggregation import get_emotion_trends_polarity\n",
    "\n",
    "def getData(index):\n",
    "    ids = get_so_far_comments(ith_comment=index)\n",
    "    print(\"Index: \", index)\n",
    "    print(\"So far Comments: \", ids)\n",
    "    escores, tscores, polarity = get_emotion_trends_polarity(ids)\n",
    "    return escores, tscores, polarity"
   ]
  },
  {
   "cell_type": "code",
   "execution_count": 16,
   "metadata": {},
   "outputs": [
    {
     "name": "stdout",
     "output_type": "stream",
     "text": [
      " * Serving Flask app '__main__'\n",
      " * Debug mode: off\n"
     ]
    },
    {
     "name": "stderr",
     "output_type": "stream",
     "text": [
      "WARNING: This is a development server. Do not use it in a production deployment. Use a production WSGI server instead.\n",
      " * Running on http://127.0.0.1:5000\n",
      "Press CTRL+C to quit\n",
      "[2024-01-08 00:17:25,384] ERROR in app: Exception on /api/data/0 [GET]\n",
      "Traceback (most recent call last):\n",
      "  File \"C:\\Users\\ismai\\AppData\\Local\\Packages\\PythonSoftwareFoundation.Python.3.9_qbz5n2kfra8p0\\LocalCache\\local-packages\\Python39\\site-packages\\flask\\app.py\", line 1455, in wsgi_app\n",
      "    response = self.full_dispatch_request()\n",
      "  File \"C:\\Users\\ismai\\AppData\\Local\\Packages\\PythonSoftwareFoundation.Python.3.9_qbz5n2kfra8p0\\LocalCache\\local-packages\\Python39\\site-packages\\flask\\app.py\", line 869, in full_dispatch_request\n",
      "    rv = self.handle_user_exception(e)\n",
      "  File \"C:\\Users\\ismai\\AppData\\Local\\Packages\\PythonSoftwareFoundation.Python.3.9_qbz5n2kfra8p0\\LocalCache\\local-packages\\Python39\\site-packages\\flask_cors\\extension.py\", line 176, in wrapped_function\n",
      "    return cors_after_request(app.make_response(f(*args, **kwargs)))\n",
      "  File \"C:\\Users\\ismai\\AppData\\Local\\Packages\\PythonSoftwareFoundation.Python.3.9_qbz5n2kfra8p0\\LocalCache\\local-packages\\Python39\\site-packages\\flask\\app.py\", line 867, in full_dispatch_request\n",
      "    rv = self.dispatch_request()\n",
      "  File \"C:\\Users\\ismai\\AppData\\Local\\Packages\\PythonSoftwareFoundation.Python.3.9_qbz5n2kfra8p0\\LocalCache\\local-packages\\Python39\\site-packages\\flask\\app.py\", line 852, in dispatch_request\n",
      "    return self.ensure_sync(self.view_functions[rule.endpoint])(**view_args)\n",
      "  File \"C:\\Users\\ismai\\AppData\\Local\\Temp\\ipykernel_39592\\170947577.py\", line 20, in getApiData\n",
      "    escores, tscores, polarity = getData(id)\n",
      "  File \"C:\\Users\\ismai\\AppData\\Local\\Temp\\ipykernel_39592\\1209015362.py\", line 7, in getData\n",
      "    escores, tscores, polarity = get_emotion_trends_polarity(ids, index)\n",
      "TypeError: get_emotion_trends_polarity() takes 1 positional argument but 2 were given\n",
      "127.0.0.1 - - [08/Jan/2024 00:17:25] \"GET /api/data/0 HTTP/1.1\" 500 -\n"
     ]
    },
    {
     "name": "stdout",
     "output_type": "stream",
     "text": [
      "Index:  0\n",
      "So far Comments:  [322]\n"
     ]
    }
   ],
   "source": [
    "from flask import Flask, request, jsonify\n",
    "from flask_cors import CORS\n",
    "import json\n",
    "\n",
    "app = Flask(__name__)\n",
    "cors = CORS(app, resources={r\"/api/*\": {\"origins\": \"*\"}})\n",
    "\n",
    "@app.route('/api/new-comment', methods=['POST'])\n",
    "def welcome():\n",
    "    comment = request.json['content']\n",
    "    img = request.json['img']\n",
    "    isYou = request.json['isYou']\n",
    "    score = request.json['score']\n",
    "    username = request.json['username']\n",
    "    print(\"new: \", comment)\n",
    "    return 'Successfully comment added!'\n",
    "\n",
    "@app.route('/api/data/<int:id>', methods=['GET'])\n",
    "def getApiData(id: int):\n",
    "    escores, tscores, polarity = getData(id)\n",
    "    escores = get_emotion(escores, id)\n",
    "    polarity = get_polarity_score(escores)\n",
    "    return json.dumps({\"escores\": escores, \"tscores\": tscores, \"polarity\": polarity})\n",
    "\n",
    "@app.route('/api/data/single-trend/<string:label>', methods=['GET'])\n",
    "def getSingleTrend(label: str):\n",
    "    return json.dumps({\"singletrend\": get_single_trend_score(label)})\n",
    "\n",
    "if __name__ == '__main__':\n",
    "    app.run(host='127.0.0.1', port=5000)"
   ]
  }
 ],
 "metadata": {
  "kernelspec": {
   "display_name": "Python 3",
   "language": "python",
   "name": "python3"
  },
  "language_info": {
   "codemirror_mode": {
    "name": "ipython",
    "version": 3
   },
   "file_extension": ".py",
   "mimetype": "text/x-python",
   "name": "python",
   "nbconvert_exporter": "python",
   "pygments_lexer": "ipython3",
   "version": "3.9.13"
  },
  "orig_nbformat": 4
 },
 "nbformat": 4,
 "nbformat_minor": 2
}
