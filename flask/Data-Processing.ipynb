{
 "cells": [
  {
   "cell_type": "code",
   "execution_count": 1,
   "metadata": {},
   "outputs": [
    {
     "name": "stderr",
     "output_type": "stream",
     "text": [
      "C:\\Users\\SIU856533724\\AppData\\Local\\Packages\\PythonSoftwareFoundation.Python.3.9_qbz5n2kfra8p0\\LocalCache\\local-packages\\Python39\\site-packages\\tqdm\\auto.py:22: TqdmWarning: IProgress not found. Please update jupyter and ipywidgets. See https://ipywidgets.readthedocs.io/en/stable/user_install.html\n",
      "  from .autonotebook import tqdm as notebook_tqdm\n"
     ]
    }
   ],
   "source": [
    "import torch\n",
    "from transformers import AutoTokenizer, AutoModel\n",
    "import torch.nn as nn\n",
    "import pandas as pd\n",
    "import warnings\n",
    "warnings.filterwarnings('ignore')\n",
    "csv_path = 'C:\\\\Users\\\\SIU856533724\\\\OneDrive - Southern Illinois University\\\\Research\\\\Paper\\\\Social Networks\\\\Trend Prediction\\\\Comment-Section-UI\\\\UI\\\\angular-interactive-comments-section\\\\src\\\\data\\\\'"
   ]
  },
  {
   "cell_type": "code",
   "execution_count": 2,
   "metadata": {},
   "outputs": [],
   "source": [
    "import os\n",
    "file = os.path.join(csv_path, 'fox-college-students-threatened-punishment.csv')\n",
    "df = pd.read_csv(file)"
   ]
  },
  {
   "cell_type": "code",
   "execution_count": 3,
   "metadata": {},
   "outputs": [
    {
     "data": {
      "text/html": [
       "<div>\n",
       "<style scoped>\n",
       "    .dataframe tbody tr th:only-of-type {\n",
       "        vertical-align: middle;\n",
       "    }\n",
       "\n",
       "    .dataframe tbody tr th {\n",
       "        vertical-align: top;\n",
       "    }\n",
       "\n",
       "    .dataframe thead th {\n",
       "        text-align: right;\n",
       "    }\n",
       "</style>\n",
       "<table border=\"1\" class=\"dataframe\">\n",
       "  <thead>\n",
       "    <tr style=\"text-align: right;\">\n",
       "      <th></th>\n",
       "      <th>Unnamed: 0</th>\n",
       "      <th>comment</th>\n",
       "      <th>time</th>\n",
       "      <th>username</th>\n",
       "      <th>id</th>\n",
       "      <th>timestamp</th>\n",
       "      <th>time_diff</th>\n",
       "    </tr>\n",
       "  </thead>\n",
       "  <tbody>\n",
       "    <tr>\n",
       "      <th>0</th>\n",
       "      <td>64</td>\n",
       "      <td>Hate needs to be stopped.</td>\n",
       "      <td>5 Dec, 2023 04:20 AM</td>\n",
       "      <td>anakalamaui</td>\n",
       "      <td>65</td>\n",
       "      <td>2023-12-05 04:20:00</td>\n",
       "      <td>0 days 00:00:00</td>\n",
       "    </tr>\n",
       "    <tr>\n",
       "      <th>1</th>\n",
       "      <td>0</td>\n",
       "      <td>It is so easy to fix this problem. There's a f...</td>\n",
       "      <td>5 Dec, 2023 05:50 AM</td>\n",
       "      <td>O's</td>\n",
       "      <td>1</td>\n",
       "      <td>2023-12-05 05:50:00</td>\n",
       "      <td>0 days 01:30:00</td>\n",
       "    </tr>\n",
       "    <tr>\n",
       "      <th>2</th>\n",
       "      <td>13</td>\n",
       "      <td>\"To learn who rules over you, simply find out ...</td>\n",
       "      <td>5 Dec, 2023 06:02 AM</td>\n",
       "      <td>Enlightened672</td>\n",
       "      <td>14</td>\n",
       "      <td>2023-12-05 06:02:00</td>\n",
       "      <td>0 days 01:42:00</td>\n",
       "    </tr>\n",
       "    <tr>\n",
       "      <th>3</th>\n",
       "      <td>52</td>\n",
       "      <td>I support Gaza because God is not about oppres...</td>\n",
       "      <td>5 Dec, 2023 06:02 AM</td>\n",
       "      <td>ripgop246</td>\n",
       "      <td>53</td>\n",
       "      <td>2023-12-05 06:02:00</td>\n",
       "      <td>0 days 01:42:00</td>\n",
       "    </tr>\n",
       "    <tr>\n",
       "      <th>4</th>\n",
       "      <td>51</td>\n",
       "      <td>Should be allowed to say whatever you want You...</td>\n",
       "      <td>5 Dec, 2023 06:03 AM</td>\n",
       "      <td>stillunrepresented</td>\n",
       "      <td>52</td>\n",
       "      <td>2023-12-05 06:03:00</td>\n",
       "      <td>0 days 01:43:00</td>\n",
       "    </tr>\n",
       "    <tr>\n",
       "      <th>5</th>\n",
       "      <td>42</td>\n",
       "      <td>Free speech is only an issue when it involves ...</td>\n",
       "      <td>5 Dec, 2023 06:12 AM</td>\n",
       "      <td>peace1</td>\n",
       "      <td>43</td>\n",
       "      <td>2023-12-05 06:12:00</td>\n",
       "      <td>0 days 01:52:00</td>\n",
       "    </tr>\n",
       "    <tr>\n",
       "      <th>6</th>\n",
       "      <td>40</td>\n",
       "      <td>Anti-American liberals absolutely hate the Con...</td>\n",
       "      <td>5 Dec, 2023 06:13 AM</td>\n",
       "      <td>Dilligaf-666</td>\n",
       "      <td>41</td>\n",
       "      <td>2023-12-05 06:13:00</td>\n",
       "      <td>0 days 01:53:00</td>\n",
       "    </tr>\n",
       "    <tr>\n",
       "      <th>7</th>\n",
       "      <td>69</td>\n",
       "      <td>Euthanize palestine.</td>\n",
       "      <td>5 Dec, 2023 06:15 AM</td>\n",
       "      <td>XOXIDENOFCHINA</td>\n",
       "      <td>70</td>\n",
       "      <td>2023-12-05 06:15:00</td>\n",
       "      <td>0 days 01:55:00</td>\n",
       "    </tr>\n",
       "    <tr>\n",
       "      <th>8</th>\n",
       "      <td>50</td>\n",
       "      <td>This article sure makes me want to spend tax d...</td>\n",
       "      <td>5 Dec, 2023 06:20 AM</td>\n",
       "      <td>NotMarkOwens</td>\n",
       "      <td>51</td>\n",
       "      <td>2023-12-05 06:20:00</td>\n",
       "      <td>0 days 02:00:00</td>\n",
       "    </tr>\n",
       "    <tr>\n",
       "      <th>9</th>\n",
       "      <td>16</td>\n",
       "      <td>And as long as censorial administrators have d...</td>\n",
       "      <td>5 Dec, 2023 06:31 AM</td>\n",
       "      <td>2cents1968</td>\n",
       "      <td>17</td>\n",
       "      <td>2023-12-05 06:31:00</td>\n",
       "      <td>0 days 02:11:00</td>\n",
       "    </tr>\n",
       "    <tr>\n",
       "      <th>10</th>\n",
       "      <td>53</td>\n",
       "      <td>God is not about rapists, kidnappers nor flat ...</td>\n",
       "      <td>5 Dec, 2023 06:32 AM</td>\n",
       "      <td>HillBillybychoice166</td>\n",
       "      <td>54</td>\n",
       "      <td>2023-12-05 06:32:00</td>\n",
       "      <td>0 days 02:12:00</td>\n",
       "    </tr>\n",
       "    <tr>\n",
       "      <th>11</th>\n",
       "      <td>44</td>\n",
       "      <td>Maybe they need more drag queen shows! Or is t...</td>\n",
       "      <td>5 Dec, 2023 06:34 AM</td>\n",
       "      <td>billyb680</td>\n",
       "      <td>45</td>\n",
       "      <td>2023-12-05 06:34:00</td>\n",
       "      <td>0 days 02:14:00</td>\n",
       "    </tr>\n",
       "    <tr>\n",
       "      <th>12</th>\n",
       "      <td>2</td>\n",
       "      <td>Close but no cigar. This is Yuppie spawn inbre...</td>\n",
       "      <td>5 Dec, 2023 06:37 AM</td>\n",
       "      <td>sep51</td>\n",
       "      <td>3</td>\n",
       "      <td>2023-12-05 06:37:00</td>\n",
       "      <td>0 days 02:17:00</td>\n",
       "    </tr>\n",
       "    <tr>\n",
       "      <th>13</th>\n",
       "      <td>45</td>\n",
       "      <td>I think that they should start expelling the s...</td>\n",
       "      <td>5 Dec, 2023 06:40 AM</td>\n",
       "      <td>hiphoppingrammy</td>\n",
       "      <td>46</td>\n",
       "      <td>2023-12-05 06:40:00</td>\n",
       "      <td>0 days 02:20:00</td>\n",
       "    </tr>\n",
       "    <tr>\n",
       "      <th>14</th>\n",
       "      <td>35</td>\n",
       "      <td>Madrasas (colleges) have been practicing polit...</td>\n",
       "      <td>5 Dec, 2023 06:41 AM</td>\n",
       "      <td>accountability158</td>\n",
       "      <td>36</td>\n",
       "      <td>2023-12-05 06:41:00</td>\n",
       "      <td>0 days 02:21:00</td>\n",
       "    </tr>\n",
       "    <tr>\n",
       "      <th>15</th>\n",
       "      <td>4</td>\n",
       "      <td>I actually did a study on this. colleges are a...</td>\n",
       "      <td>5 Dec, 2023 06:41 AM</td>\n",
       "      <td>texan-70</td>\n",
       "      <td>5</td>\n",
       "      <td>2023-12-05 06:41:00</td>\n",
       "      <td>0 days 02:21:00</td>\n",
       "    </tr>\n",
       "    <tr>\n",
       "      <th>16</th>\n",
       "      <td>14</td>\n",
       "      <td>People are raising an entire generation of sni...</td>\n",
       "      <td>5 Dec, 2023 06:43 AM</td>\n",
       "      <td>sendintheirklowns</td>\n",
       "      <td>15</td>\n",
       "      <td>2023-12-05 06:43:00</td>\n",
       "      <td>0 days 02:23:00</td>\n",
       "    </tr>\n",
       "    <tr>\n",
       "      <th>17</th>\n",
       "      <td>34</td>\n",
       "      <td>Yale has a one-to-one ratio of administrators ...</td>\n",
       "      <td>5 Dec, 2023 06:45 AM</td>\n",
       "      <td>bano946</td>\n",
       "      <td>35</td>\n",
       "      <td>2023-12-05 06:45:00</td>\n",
       "      <td>0 days 02:25:00</td>\n",
       "    </tr>\n",
       "    <tr>\n",
       "      <th>18</th>\n",
       "      <td>8</td>\n",
       "      <td>There is no free speech on any campus- the Fed...</td>\n",
       "      <td>5 Dec, 2023 06:51 AM</td>\n",
       "      <td>LastAmericanPatriot</td>\n",
       "      <td>9</td>\n",
       "      <td>2023-12-05 06:51:00</td>\n",
       "      <td>0 days 02:31:00</td>\n",
       "    </tr>\n",
       "    <tr>\n",
       "      <th>19</th>\n",
       "      <td>43</td>\n",
       "      <td>Another left-wing anti-semite! My Father almos...</td>\n",
       "      <td>5 Dec, 2023 07:13 AM</td>\n",
       "      <td>MBRiggs</td>\n",
       "      <td>44</td>\n",
       "      <td>2023-12-05 07:13:00</td>\n",
       "      <td>0 days 02:53:00</td>\n",
       "    </tr>\n",
       "  </tbody>\n",
       "</table>\n",
       "</div>"
      ],
      "text/plain": [
       "    Unnamed: 0                                            comment  \\\n",
       "0           64                          Hate needs to be stopped.   \n",
       "1            0  It is so easy to fix this problem. There's a f...   \n",
       "2           13  \"To learn who rules over you, simply find out ...   \n",
       "3           52  I support Gaza because God is not about oppres...   \n",
       "4           51  Should be allowed to say whatever you want You...   \n",
       "5           42  Free speech is only an issue when it involves ...   \n",
       "6           40  Anti-American liberals absolutely hate the Con...   \n",
       "7           69                               Euthanize palestine.   \n",
       "8           50  This article sure makes me want to spend tax d...   \n",
       "9           16  And as long as censorial administrators have d...   \n",
       "10          53  God is not about rapists, kidnappers nor flat ...   \n",
       "11          44  Maybe they need more drag queen shows! Or is t...   \n",
       "12           2  Close but no cigar. This is Yuppie spawn inbre...   \n",
       "13          45  I think that they should start expelling the s...   \n",
       "14          35  Madrasas (colleges) have been practicing polit...   \n",
       "15           4  I actually did a study on this. colleges are a...   \n",
       "16          14  People are raising an entire generation of sni...   \n",
       "17          34  Yale has a one-to-one ratio of administrators ...   \n",
       "18           8  There is no free speech on any campus- the Fed...   \n",
       "19          43  Another left-wing anti-semite! My Father almos...   \n",
       "\n",
       "                    time              username  id            timestamp  \\\n",
       "0   5 Dec, 2023 04:20 AM           anakalamaui  65  2023-12-05 04:20:00   \n",
       "1   5 Dec, 2023 05:50 AM                   O's   1  2023-12-05 05:50:00   \n",
       "2   5 Dec, 2023 06:02 AM        Enlightened672  14  2023-12-05 06:02:00   \n",
       "3   5 Dec, 2023 06:02 AM             ripgop246  53  2023-12-05 06:02:00   \n",
       "4   5 Dec, 2023 06:03 AM    stillunrepresented  52  2023-12-05 06:03:00   \n",
       "5   5 Dec, 2023 06:12 AM                peace1  43  2023-12-05 06:12:00   \n",
       "6   5 Dec, 2023 06:13 AM          Dilligaf-666  41  2023-12-05 06:13:00   \n",
       "7   5 Dec, 2023 06:15 AM        XOXIDENOFCHINA  70  2023-12-05 06:15:00   \n",
       "8   5 Dec, 2023 06:20 AM          NotMarkOwens  51  2023-12-05 06:20:00   \n",
       "9   5 Dec, 2023 06:31 AM            2cents1968  17  2023-12-05 06:31:00   \n",
       "10  5 Dec, 2023 06:32 AM  HillBillybychoice166  54  2023-12-05 06:32:00   \n",
       "11  5 Dec, 2023 06:34 AM             billyb680  45  2023-12-05 06:34:00   \n",
       "12  5 Dec, 2023 06:37 AM                 sep51   3  2023-12-05 06:37:00   \n",
       "13  5 Dec, 2023 06:40 AM       hiphoppingrammy  46  2023-12-05 06:40:00   \n",
       "14  5 Dec, 2023 06:41 AM     accountability158  36  2023-12-05 06:41:00   \n",
       "15  5 Dec, 2023 06:41 AM              texan-70   5  2023-12-05 06:41:00   \n",
       "16  5 Dec, 2023 06:43 AM     sendintheirklowns  15  2023-12-05 06:43:00   \n",
       "17  5 Dec, 2023 06:45 AM               bano946  35  2023-12-05 06:45:00   \n",
       "18  5 Dec, 2023 06:51 AM   LastAmericanPatriot   9  2023-12-05 06:51:00   \n",
       "19  5 Dec, 2023 07:13 AM               MBRiggs  44  2023-12-05 07:13:00   \n",
       "\n",
       "          time_diff  \n",
       "0   0 days 00:00:00  \n",
       "1   0 days 01:30:00  \n",
       "2   0 days 01:42:00  \n",
       "3   0 days 01:42:00  \n",
       "4   0 days 01:43:00  \n",
       "5   0 days 01:52:00  \n",
       "6   0 days 01:53:00  \n",
       "7   0 days 01:55:00  \n",
       "8   0 days 02:00:00  \n",
       "9   0 days 02:11:00  \n",
       "10  0 days 02:12:00  \n",
       "11  0 days 02:14:00  \n",
       "12  0 days 02:17:00  \n",
       "13  0 days 02:20:00  \n",
       "14  0 days 02:21:00  \n",
       "15  0 days 02:21:00  \n",
       "16  0 days 02:23:00  \n",
       "17  0 days 02:25:00  \n",
       "18  0 days 02:31:00  \n",
       "19  0 days 02:53:00  "
      ]
     },
     "execution_count": 3,
     "metadata": {},
     "output_type": "execute_result"
    }
   ],
   "source": [
    "df.head(20)"
   ]
  },
  {
   "cell_type": "code",
   "execution_count": 4,
   "metadata": {},
   "outputs": [
    {
     "data": {
      "text/plain": [
       "[\"It is so easy to fix this problem. There's a fast fix and a slow fix. The fast fix is to eliminate the guaranteed student loan program. This will force higher learning to compete for customers, aka students. Many institutions will not make it. The slow fix is to identify institutions that demonstrate freedom and send your kids there. Again, this will force institutions to compete for customers, but it will take more time to see results. Higher education is a business, not unlike Bud Light. Treat it accordingly if you want to make a point.\",\n",
       " '5 Dec, 2023 05:50 AM',\n",
       " \"O's\",\n",
       " 1,\n",
       " '2023-12-05 05:50:00',\n",
       " '0 days 01:30:00']"
      ]
     },
     "execution_count": 4,
     "metadata": {},
     "output_type": "execute_result"
    }
   ],
   "source": [
    "list(df.iloc[1][1:])"
   ]
  },
  {
   "cell_type": "code",
   "execution_count": 5,
   "metadata": {},
   "outputs": [],
   "source": [
    "def get_so_far_comments(comment_id):\n",
    "    row_index = df.loc[df['id'] == comment_id].index[0]\n",
    "    ids = df.iloc[0:row_index+1]['id']\n",
    "    return list(ids)\n"
   ]
  },
  {
   "cell_type": "code",
   "execution_count": 6,
   "metadata": {},
   "outputs": [
    {
     "data": {
      "text/plain": [
       "[65, 1]"
      ]
     },
     "execution_count": 6,
     "metadata": {},
     "output_type": "execute_result"
    }
   ],
   "source": [
    "get_so_far_comments(1)"
   ]
  },
  {
   "cell_type": "code",
   "execution_count": 7,
   "metadata": {},
   "outputs": [
    {
     "name": "stdout",
     "output_type": "stream",
     "text": [
      "{'positive': ['amusement', 'excitement', 'joy', 'love', 'desire', 'optimism', 'caring', 'pride', 'admiration', 'gratitude', 'relief', 'approval'], 'negative': ['fear', 'nervousness', 'remorse', 'embarrassment', 'disappointment', 'sadness', 'grief', 'disgust', 'anger', 'annoyance', 'disapproval'], 'ambiguous': ['realization', 'surprise', 'curiosity', 'confusion'], 'neutral': ['neutral']}\n",
      "dict_keys(['positive', 'negative', 'ambiguous', 'neutral'])\n"
     ]
    }
   ],
   "source": [
    "from score_aggregation import get_emotion_trends_polarity\n",
    "\n",
    "def getData(commentId):\n",
    "    ids = get_so_far_comments(comment_id=commentId)\n",
    "    print(\"Id: \", commentId)\n",
    "    print(\"So far Comments: \", ids)\n",
    "    escores, tscores, polarity = get_emotion_trends_polarity(ids)\n",
    "    return escores, tscores, polarity"
   ]
  },
  {
   "cell_type": "code",
   "execution_count": 8,
   "metadata": {},
   "outputs": [
    {
     "name": "stdout",
     "output_type": "stream",
     "text": [
      " * Serving Flask app '__main__'\n",
      " * Debug mode: off\n"
     ]
    },
    {
     "name": "stderr",
     "output_type": "stream",
     "text": [
      "WARNING: This is a development server. Do not use it in a production deployment. Use a production WSGI server instead.\n",
      " * Running on http://127.0.0.1:5000\n",
      "Press CTRL+C to quit\n",
      "127.0.0.1 - - [19/Dec/2023 17:09:13] \"GET /api/data/3 HTTP/1.1\" 200 -\n"
     ]
    },
    {
     "name": "stdout",
     "output_type": "stream",
     "text": [
      "Id:  3\n",
      "So far Comments:  [65, 1, 14, 53, 52, 43, 41, 70, 51, 17, 54, 45, 3]\n"
     ]
    },
    {
     "name": "stderr",
     "output_type": "stream",
     "text": [
      "127.0.0.1 - - [19/Dec/2023 17:09:16] \"GET /api/data/8 HTTP/1.1\" 200 -\n"
     ]
    },
    {
     "name": "stdout",
     "output_type": "stream",
     "text": [
      "Id:  8\n",
      "So far Comments:  [65, 1, 14, 53, 52, 43, 41, 70, 51, 17, 54, 45, 3, 46, 36, 5, 15, 35, 9, 44, 40, 66, 4, 42, 39, 71, 11, 12, 74, 13, 47, 67, 6, 10, 16, 27, 28, 68, 75, 19, 57, 58, 23, 26, 59, 60, 34, 18, 33, 56, 61, 29, 8]\n"
     ]
    },
    {
     "name": "stderr",
     "output_type": "stream",
     "text": [
      "127.0.0.1 - - [19/Dec/2023 17:09:19] \"GET /api/data/19 HTTP/1.1\" 200 -\n"
     ]
    },
    {
     "name": "stdout",
     "output_type": "stream",
     "text": [
      "Id:  19\n",
      "So far Comments:  [65, 1, 14, 53, 52, 43, 41, 70, 51, 17, 54, 45, 3, 46, 36, 5, 15, 35, 9, 44, 40, 66, 4, 42, 39, 71, 11, 12, 74, 13, 47, 67, 6, 10, 16, 27, 28, 68, 75, 19]\n"
     ]
    },
    {
     "name": "stderr",
     "output_type": "stream",
     "text": [
      "127.0.0.1 - - [19/Dec/2023 17:09:22] \"GET /api/data/31 HTTP/1.1\" 200 -\n"
     ]
    },
    {
     "name": "stdout",
     "output_type": "stream",
     "text": [
      "Id:  31\n",
      "So far Comments:  [65, 1, 14, 53, 52, 43, 41, 70, 51, 17, 54, 45, 3, 46, 36, 5, 15, 35, 9, 44, 40, 66, 4, 42, 39, 71, 11, 12, 74, 13, 47, 67, 6, 10, 16, 27, 28, 68, 75, 19, 57, 58, 23, 26, 59, 60, 34, 18, 33, 56, 61, 29, 8, 7, 20, 50, 21, 24, 30, 25, 69, 62, 63, 22, 31]\n"
     ]
    },
    {
     "name": "stderr",
     "output_type": "stream",
     "text": [
      "127.0.0.1 - - [19/Dec/2023 17:09:24] \"GET /api/data/55 HTTP/1.1\" 200 -\n"
     ]
    },
    {
     "name": "stdout",
     "output_type": "stream",
     "text": [
      "Id:  55\n",
      "So far Comments:  [65, 1, 14, 53, 52, 43, 41, 70, 51, 17, 54, 45, 3, 46, 36, 5, 15, 35, 9, 44, 40, 66, 4, 42, 39, 71, 11, 12, 74, 13, 47, 67, 6, 10, 16, 27, 28, 68, 75, 19, 57, 58, 23, 26, 59, 60, 34, 18, 33, 56, 61, 29, 8, 7, 20, 50, 21, 24, 30, 25, 69, 62, 63, 22, 31, 32, 64, 72, 55]\n"
     ]
    },
    {
     "name": "stderr",
     "output_type": "stream",
     "text": [
      "127.0.0.1 - - [19/Dec/2023 17:09:28] \"GET /api/data/67 HTTP/1.1\" 200 -\n"
     ]
    },
    {
     "name": "stdout",
     "output_type": "stream",
     "text": [
      "Id:  67\n",
      "So far Comments:  [65, 1, 14, 53, 52, 43, 41, 70, 51, 17, 54, 45, 3, 46, 36, 5, 15, 35, 9, 44, 40, 66, 4, 42, 39, 71, 11, 12, 74, 13, 47, 67]\n"
     ]
    },
    {
     "name": "stderr",
     "output_type": "stream",
     "text": [
      "127.0.0.1 - - [19/Dec/2023 17:09:31] \"GET /api/data/74 HTTP/1.1\" 200 -\n"
     ]
    },
    {
     "name": "stdout",
     "output_type": "stream",
     "text": [
      "Id:  74\n",
      "So far Comments:  [65, 1, 14, 53, 52, 43, 41, 70, 51, 17, 54, 45, 3, 46, 36, 5, 15, 35, 9, 44, 40, 66, 4, 42, 39, 71, 11, 12, 74]\n"
     ]
    },
    {
     "name": "stderr",
     "output_type": "stream",
     "text": [
      "127.0.0.1 - - [19/Dec/2023 19:24:30] \"GET /api/data/71 HTTP/1.1\" 200 -\n"
     ]
    },
    {
     "name": "stdout",
     "output_type": "stream",
     "text": [
      "Id:  71\n",
      "So far Comments:  [65, 1, 14, 53, 52, 43, 41, 70, 51, 17, 54, 45, 3, 46, 36, 5, 15, 35, 9, 44, 40, 66, 4, 42, 39, 71]\n"
     ]
    },
    {
     "name": "stderr",
     "output_type": "stream",
     "text": [
      "127.0.0.1 - - [19/Dec/2023 19:24:34] \"GET /api/data/1 HTTP/1.1\" 200 -\n"
     ]
    },
    {
     "name": "stdout",
     "output_type": "stream",
     "text": [
      "Id:  1\n",
      "So far Comments:  [65, 1]\n"
     ]
    },
    {
     "name": "stderr",
     "output_type": "stream",
     "text": [
      "127.0.0.1 - - [19/Dec/2023 19:36:57] \"GET /api/data/8 HTTP/1.1\" 200 -\n"
     ]
    },
    {
     "name": "stdout",
     "output_type": "stream",
     "text": [
      "Id:  8\n",
      "So far Comments:  [65, 1, 14, 53, 52, 43, 41, 70, 51, 17, 54, 45, 3, 46, 36, 5, 15, 35, 9, 44, 40, 66, 4, 42, 39, 71, 11, 12, 74, 13, 47, 67, 6, 10, 16, 27, 28, 68, 75, 19, 57, 58, 23, 26, 59, 60, 34, 18, 33, 56, 61, 29, 8]\n"
     ]
    },
    {
     "name": "stderr",
     "output_type": "stream",
     "text": [
      "127.0.0.1 - - [19/Dec/2023 19:37:00] \"GET /api/data/47 HTTP/1.1\" 200 -\n"
     ]
    },
    {
     "name": "stdout",
     "output_type": "stream",
     "text": [
      "Id:  47\n",
      "So far Comments:  [65, 1, 14, 53, 52, 43, 41, 70, 51, 17, 54, 45, 3, 46, 36, 5, 15, 35, 9, 44, 40, 66, 4, 42, 39, 71, 11, 12, 74, 13, 47]\n"
     ]
    },
    {
     "name": "stderr",
     "output_type": "stream",
     "text": [
      "127.0.0.1 - - [19/Dec/2023 19:37:05] \"GET /api/data/1 HTTP/1.1\" 200 -\n"
     ]
    },
    {
     "name": "stdout",
     "output_type": "stream",
     "text": [
      "Id:  1\n",
      "So far Comments:  [65, 1]\n"
     ]
    },
    {
     "name": "stderr",
     "output_type": "stream",
     "text": [
      "127.0.0.1 - - [19/Dec/2023 19:37:08] \"GET /api/data/8 HTTP/1.1\" 200 -\n"
     ]
    },
    {
     "name": "stdout",
     "output_type": "stream",
     "text": [
      "Id:  8\n",
      "So far Comments:  [65, 1, 14, 53, 52, 43, 41, 70, 51, 17, 54, 45, 3, 46, 36, 5, 15, 35, 9, 44, 40, 66, 4, 42, 39, 71, 11, 12, 74, 13, 47, 67, 6, 10, 16, 27, 28, 68, 75, 19, 57, 58, 23, 26, 59, 60, 34, 18, 33, 56, 61, 29, 8]\n"
     ]
    },
    {
     "name": "stderr",
     "output_type": "stream",
     "text": [
      "127.0.0.1 - - [19/Dec/2023 19:37:11] \"GET /api/data/43 HTTP/1.1\" 200 -\n"
     ]
    },
    {
     "name": "stdout",
     "output_type": "stream",
     "text": [
      "Id:  43\n",
      "So far Comments:  [65, 1, 14, 53, 52, 43]\n"
     ]
    },
    {
     "name": "stderr",
     "output_type": "stream",
     "text": [
      "127.0.0.1 - - [19/Dec/2023 19:37:42] \"GET /api/data/35 HTTP/1.1\" 200 -\n"
     ]
    },
    {
     "name": "stdout",
     "output_type": "stream",
     "text": [
      "Id:  35\n",
      "So far Comments:  [65, 1, 14, 53, 52, 43, 41, 70, 51, 17, 54, 45, 3, 46, 36, 5, 15, 35]\n"
     ]
    }
   ],
   "source": [
    "from flask import Flask, request, jsonify\n",
    "from flask_cors import CORS\n",
    "import json\n",
    "\n",
    "app = Flask(__name__)\n",
    "cors = CORS(app, resources={r\"/api/*\": {\"origins\": \"*\"}})\n",
    "\n",
    "@app.route('/api/new-comment', methods=['POST'])\n",
    "def welcome():\n",
    "    comment = request.json['content']\n",
    "    img = request.json['img']\n",
    "    isYou = request.json['isYou']\n",
    "    score = request.json['score']\n",
    "    username = request.json['username']\n",
    "    print(\"new: \", comment)\n",
    "    return 'Successfully comment added!'\n",
    "\n",
    "@app.route('/api/data/<int:id>', methods=['GET'])\n",
    "def getApiData(id: int):\n",
    "    escores, tscores, polarity = getData(id)\n",
    "    return json.dumps({\"escores\": escores, \"tscores\": tscores, \"polarity\": polarity})\n",
    "\n",
    "if __name__ == '__main__':\n",
    "    app.run(host='127.0.0.1', port=5000)"
   ]
  }
 ],
 "metadata": {
  "kernelspec": {
   "display_name": "Python 3",
   "language": "python",
   "name": "python3"
  },
  "language_info": {
   "codemirror_mode": {
    "name": "ipython",
    "version": 3
   },
   "file_extension": ".py",
   "mimetype": "text/x-python",
   "name": "python",
   "nbconvert_exporter": "python",
   "pygments_lexer": "ipython3",
   "version": "3.9.13"
  },
  "orig_nbformat": 4
 },
 "nbformat": 4,
 "nbformat_minor": 2
}
